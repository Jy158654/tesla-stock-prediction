{
 "cells": [
  {
   "attachments": {},
   "cell_type": "markdown",
   "metadata": {},
   "source": [
    "## Tesla Stock Prediction from Ensemble Model comprised of:\n",
    "1. ARIMA time-series forecasting\n",
    "2. Sentiment Analysis from Elon Musk's tweets"
   ]
  },
  {
   "attachments": {},
   "cell_type": "markdown",
   "metadata": {},
   "source": [
    "### ARIMA time-series forecasting"
   ]
  },
  {
   "attachments": {},
   "cell_type": "markdown",
   "metadata": {},
   "source": [
    "#### Extract Tesla Stock Historical Data\n",
    "##### dataset: https://www.nasdaq.com/market-activity/stocks/tsla/historical"
   ]
  },
  {
   "cell_type": "code",
   "execution_count": 239,
   "metadata": {},
   "outputs": [],
   "source": [
    "#import the required libraries\n",
    "import requests\n",
    "from bs4 import BeautifulSoup\n",
    "import pandas as pd\n",
    "from selenium import webdriver\n",
    "from selenium.webdriver.chrome.service import Service\n",
    "from selenium.webdriver.common.by import By\n",
    "from selenium.common.exceptions import NoSuchElementException\n",
    "import time"
   ]
  },
  {
   "cell_type": "code",
   "execution_count": 240,
   "metadata": {},
   "outputs": [],
   "source": [
    "#choose the user_agent suitable for your browser\n",
    "user_agent = \"Mozilla/5.0 (Windows NT 10.0; WOW64) AppleWebKit/537.36 (KHTML, like Gecko) Chrome/114.0.0.0 Safari/537.36\"\n",
    "\n",
    "#set to the path where your chromedriver bin file is located\n",
    "driver_path = \"r\\C:\\\\Users\\\\Administrator\\\\Desktop\\\\chromedriver.exe\"\n",
    "\n",
    "#setup webdriver to access browser pages\n",
    "options = webdriver.ChromeOptions()\n",
    "options.add_argument('--ignore-certificate-errors')\n",
    "options.add_argument('--incognito')\n",
    "options.add_argument('--headless')\n",
    "options.add_argument(\"user-agent=%s\".format(user_agent))\n",
    "service = Service(executable_path=driver_path)\n",
    "driver = webdriver.Chrome(options=options, service=service)"
   ]
  },
  {
   "cell_type": "code",
   "execution_count": 241,
   "metadata": {},
   "outputs": [],
   "source": [
    "driver.get(\"https://www.nasdaq.com/market-activity/stocks/tsla/historical/\")\n",
    "\n",
    "#change data-value to your desired value\n",
    "select_duration = driver.find_elements(By.XPATH,\"//button[@data-value='y5']\")"
   ]
  },
  {
   "cell_type": "code",
   "execution_count": 242,
   "metadata": {},
   "outputs": [],
   "source": [
    "#click the button of disired data-value chosen previously\n",
    "driver.execute_script(\"arguments[0].click();\", select_duration[0])"
   ]
  },
  {
   "cell_type": "code",
   "execution_count": 243,
   "metadata": {},
   "outputs": [],
   "source": [
    "tesla_stock_df = pd.DataFrame(columns=[\"Date\", \"Close\", \"Volume\", \"Open\", \"High\", \"Low\"])"
   ]
  },
  {
   "cell_type": "code",
   "execution_count": 244,
   "metadata": {},
   "outputs": [],
   "source": [
    "#extract data in a page using bs4\n",
    "def extract_content(page_source):\n",
    "  global tesla_stock_df\n",
    "  soup = BeautifulSoup(page_source, \"html.parser\")\n",
    "\n",
    "  historical_data_row = soup.find_all('tr', {'class': 'historical-data__row'})\n",
    "\n",
    "  for rows in historical_data_row:\n",
    "    cols = rows.find_all(\"td\")\n",
    "    temp_df = pd.DataFrame([{\"Date\":rows.th.get_text(), \"Close\":cols[0].text, \"Volume\":cols[1].text, \n",
    "                            \"Open\":cols[2].text, \"High\":cols[3].text, \"Low\":cols[4].text}])\n",
    "    tesla_stock_df = pd.concat([tesla_stock_df, temp_df])\n",
    "\n",
    "  return tesla_stock_df\n",
    "\n",
    "  "
   ]
  },
  {
   "cell_type": "code",
   "execution_count": 245,
   "metadata": {},
   "outputs": [
    {
     "name": "stdout",
     "output_type": "stream",
     "text": [
      "Processing page 2.......\n",
      "Processing page 3.......\n",
      "Processing page 4.......\n",
      "Processing page 5.......\n",
      "Processing page 6.......\n",
      "Processing page 7.......\n",
      "Processing page 8.......\n",
      "Processing page 9.......\n",
      "Processing page 10.......\n",
      "Processing page 11.......\n",
      "Processing page 12.......\n",
      "Processing page 13.......\n",
      "Processing page 14.......\n",
      "Processing page 15.......\n",
      "Processing page 16.......\n",
      "Processing page 17.......\n",
      "Processing page 18.......\n",
      "Processing page 19.......\n",
      "Processing page 20.......\n",
      "Processing page 21.......\n",
      "Processing page 22.......\n",
      "Processing page 23.......\n",
      "Processing page 24.......\n",
      "Processing page 25.......\n",
      "Processing page 26.......\n",
      "Processing page 27.......\n",
      "Processing page 28.......\n",
      "Processing page 29.......\n",
      "Processing page 30.......\n",
      "Processing page 31.......\n",
      "Processing page 32.......\n",
      "Processing page 33.......\n",
      "Processing page 34.......\n",
      "Processing page 35.......\n",
      "Processing page 36.......\n",
      "Processing page 37.......\n",
      "Processing page 38.......\n",
      "Processing page 39.......\n",
      "Processing page 40.......\n",
      "Processing page 41.......\n",
      "Processing page 42.......\n",
      "Processing page 43.......\n",
      "Processing page 44.......\n",
      "Processing page 45.......\n",
      "Processing page 46.......\n",
      "Processing page 47.......\n",
      "Processing page 48.......\n",
      "Processing page 49.......\n",
      "Processing page 50.......\n",
      "Processing page 51.......\n",
      "Processing page 52.......\n",
      "Processing page 53.......\n",
      "Processing page 54.......\n",
      "Processing page 55.......\n",
      "Processing page 56.......\n",
      "Processing page 57.......\n",
      "Processing page 58.......\n",
      "Processing page 59.......\n",
      "Processing page 60.......\n",
      "Processing page 61.......\n",
      "Processing page 62.......\n",
      "Processing page 63.......\n",
      "Processing page 64.......\n",
      "Processing page 65.......\n",
      "Processing page 66.......\n",
      "Processing page 67.......\n",
      "Processing page 68.......\n",
      "Processing page 69.......\n",
      "Processing page 70.......\n",
      "Processing page 71.......\n"
     ]
    }
   ],
   "source": [
    "#iterate through each page until the end to obtain all the stock data\n",
    "page_source = driver.page_source\n",
    "extract_content(page_source)\n",
    "\n",
    "current_page = 1\n",
    "while True:\n",
    "    try:\n",
    "        current_page += 1\n",
    "        print(\"Processing page {}.......\".format(current_page))\n",
    "        \n",
    "        next_page_element = driver.find_element(By.XPATH, \"//button[@class='pagination__page' and @data-page='{}']\".format(str(current_page)))\n",
    "\n",
    "        if next_page_element.is_enabled():\n",
    "            driver.execute_script(\"arguments[0].click();\", next_page_element)\n",
    "            time.sleep(1)\n",
    "            page_source = driver.page_source\n",
    "            extract_content(page_source)\n",
    "        else:\n",
    "            break\n",
    "    except NoSuchElementException :\n",
    "        break\n",
    "    "
   ]
  },
  {
   "cell_type": "code",
   "execution_count": 246,
   "metadata": {},
   "outputs": [],
   "source": [
    "tesla_stock_df.reset_index(drop=True, inplace=True)"
   ]
  },
  {
   "cell_type": "code",
   "execution_count": 247,
   "metadata": {},
   "outputs": [
    {
     "name": "stdout",
     "output_type": "stream",
     "text": [
      "            Date     Close       Volume      Open      High       Low\n",
      "0     07/27/2023   $255.71  103,697,300   $268.31   $269.13   $255.30\n",
      "1     07/26/2023   $264.35   95,856,180   $263.25   $268.04   $261.75\n",
      "2     07/25/2023   $265.28  112,757,300   $272.38   $272.90   $265.00\n",
      "3     07/24/2023   $269.06  137,005,000   $255.85   $269.85   $254.12\n",
      "4     07/21/2023   $260.02  161,796,100   $268.00   $268.00   $255.80\n",
      "...          ...       ...          ...       ...       ...       ...\n",
      "1252  08/03/2018  $23.2113  204,699,498  $23.1873  $23.6667  $22.8353\n",
      "1253  08/02/2018  $23.3027  347,387,226   $21.896  $23.3327   $21.544\n",
      "1254  08/01/2018   $20.056  131,521,419   $19.866    $20.20  $19.5333\n",
      "1255  07/31/2018   $19.876   75,826,372  $19.4833   $19.888  $19.2713\n",
      "1256  07/30/2018  $19.3447  101,993,664  $19.7267    $19.74  $19.0753\n",
      "\n",
      "[1257 rows x 6 columns]\n"
     ]
    }
   ],
   "source": [
    "print(tesla_stock_df)"
   ]
  },
  {
   "cell_type": "code",
   "execution_count": 248,
   "metadata": {},
   "outputs": [],
   "source": [
    "#save the resulting df to csv\n",
    "file_path = \"tesla_stock_price.csv\"\n",
    "tesla_stock_df.to_csv(file_path, mode='w')"
   ]
  },
  {
   "attachments": {},
   "cell_type": "markdown",
   "metadata": {},
   "source": [
    "#### Data Cleaning"
   ]
  },
  {
   "cell_type": "code",
   "execution_count": 249,
   "metadata": {},
   "outputs": [],
   "source": [
    "tesla_stock_df = pd.read_csv(file_path)"
   ]
  },
  {
   "cell_type": "code",
   "execution_count": 250,
   "metadata": {},
   "outputs": [
    {
     "name": "stdout",
     "output_type": "stream",
     "text": [
      "      Unnamed: 0       Date     Close       Volume      Open      High  \\\n",
      "0              0 2023-07-27  255.7100  103697300.0  268.3100  269.1300   \n",
      "1              1 2023-07-26  264.3500   95856180.0  263.2500  268.0400   \n",
      "2              2 2023-07-25  265.2800  112757300.0  272.3800  272.9000   \n",
      "3              3 2023-07-24  269.0600  137005000.0  255.8500  269.8500   \n",
      "4              4 2023-07-21  260.0200  161796100.0  268.0000  268.0000   \n",
      "...          ...        ...       ...          ...       ...       ...   \n",
      "1252        1252 2018-08-03   23.2113  204699498.0   23.1873   23.6667   \n",
      "1253        1253 2018-08-02   23.3027  347387226.0   21.8960   23.3327   \n",
      "1254        1254 2018-08-01   20.0560  131521419.0   19.8660   20.2000   \n",
      "1255        1255 2018-07-31   19.8760   75826372.0   19.4833   19.8880   \n",
      "1256        1256 2018-07-30   19.3447  101993664.0   19.7267   19.7400   \n",
      "\n",
      "           Low  \n",
      "0     255.3000  \n",
      "1     261.7500  \n",
      "2     265.0000  \n",
      "3     254.1200  \n",
      "4     255.8000  \n",
      "...        ...  \n",
      "1252   22.8353  \n",
      "1253   21.5440  \n",
      "1254   19.5333  \n",
      "1255   19.2713  \n",
      "1256   19.0753  \n",
      "\n",
      "[1257 rows x 7 columns]\n"
     ]
    }
   ],
   "source": [
    "#data cleaning\n",
    "tesla_stock_df[\"Date\"] = pd.to_datetime(tesla_stock_df[\"Date\"])\n",
    "tesla_stock_df[\"Close\"] = tesla_stock_df[\"Close\"].str.replace(\"$\", \"\")\n",
    "tesla_stock_df[\"Volume\"] = tesla_stock_df[\"Volume\"].str.replace(\",\", \"\")\n",
    "tesla_stock_df[\"Open\"] = tesla_stock_df[\"Open\"].str.replace(\"$\", \"\")\n",
    "tesla_stock_df[\"High\"] = tesla_stock_df[\"High\"].str.replace(\"$\", \"\")\n",
    "tesla_stock_df[\"Low\"] = tesla_stock_df[\"Low\"].str.replace(\"$\", \"\")\n",
    "\n",
    "tesla_stock_df[[\"Close\", \"Volume\", \"Open\", \"High\", \"Low\"]] = tesla_stock_df[[\n",
    "    \"Close\", \"Volume\", \"Open\", \"High\", \"Low\"]].astype(str).astype(float)\n",
    "print(tesla_stock_df)"
   ]
  },
  {
   "cell_type": "code",
   "execution_count": 251,
   "metadata": {},
   "outputs": [
    {
     "name": "stdout",
     "output_type": "stream",
     "text": [
      "<class 'pandas.core.frame.DataFrame'>\n",
      "RangeIndex: 1257 entries, 0 to 1256\n",
      "Data columns (total 7 columns):\n",
      " #   Column      Non-Null Count  Dtype         \n",
      "---  ------      --------------  -----         \n",
      " 0   Unnamed: 0  1257 non-null   int64         \n",
      " 1   Date        1257 non-null   datetime64[ns]\n",
      " 2   Close       1257 non-null   float64       \n",
      " 3   Volume      1257 non-null   float64       \n",
      " 4   Open        1257 non-null   float64       \n",
      " 5   High        1257 non-null   float64       \n",
      " 6   Low         1257 non-null   float64       \n",
      "dtypes: datetime64[ns](1), float64(5), int64(1)\n",
      "memory usage: 68.9 KB\n",
      "None\n"
     ]
    }
   ],
   "source": [
    "print(tesla_stock_df.info())"
   ]
  },
  {
   "cell_type": "code",
   "execution_count": 252,
   "metadata": {},
   "outputs": [
    {
     "name": "stdout",
     "output_type": "stream",
     "text": [
      "       Unnamed: 0                           Date    Close        Volume  \\\n",
      "count     1257.00                           1257  1257.00  1.257000e+03   \n",
      "mean       628.00  2021-01-25 16:20:37.231503616   151.97  1.366425e+08   \n",
      "min          0.00            2018-07-30 00:00:00    11.93  2.940168e+07   \n",
      "25%        314.00            2019-10-28 00:00:00    23.21  7.911178e+07   \n",
      "50%        628.00            2021-01-27 00:00:00   166.66  1.095203e+08   \n",
      "75%        942.00            2022-04-26 00:00:00   242.67  1.656112e+08   \n",
      "max       1256.00            2023-07-27 00:00:00   409.97  9.140809e+08   \n",
      "std        363.01                            NaN   113.22  8.887694e+07   \n",
      "\n",
      "          Open     High      Low  \n",
      "count  1257.00  1257.00  1257.00  \n",
      "mean    152.03   155.63   148.22  \n",
      "min      12.07    12.45    11.80  \n",
      "25%      23.08    23.47    22.81  \n",
      "50%     167.38   170.79   163.51  \n",
      "75%     242.88   248.25   237.14  \n",
      "max     411.47   414.50   405.67  \n",
      "std     113.39   115.99   110.53  \n"
     ]
    }
   ],
   "source": [
    "print(tesla_stock_df.describe(include=\"all\").round(2))"
   ]
  }
 ],
 "metadata": {
  "kernelspec": {
   "display_name": "tesla",
   "language": "python",
   "name": "python3"
  },
  "language_info": {
   "codemirror_mode": {
    "name": "ipython",
    "version": 3
   },
   "file_extension": ".py",
   "mimetype": "text/x-python",
   "name": "python",
   "nbconvert_exporter": "python",
   "pygments_lexer": "ipython3",
   "version": "3.11.4"
  },
  "orig_nbformat": 4
 },
 "nbformat": 4,
 "nbformat_minor": 2
}
